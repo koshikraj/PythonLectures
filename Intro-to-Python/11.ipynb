{
 "cells": [
  {
   "cell_type": "markdown",
   "metadata": {},
   "source": [
    "# Building a simple web application"
   ]
  },
  {
   "cell_type": "markdown",
   "metadata": {},
   "source": [
    "We will try to build an web application which has minimalistic feature and serves as a REST API.\n",
    "\n",
    "REST APIs are simple and more readable compared to SOAP protocol APIs.\n",
    "\n",
    "## Concepts / Tools used:\n",
    "\n",
    "- Webserver - [Sanic](https://github.com/channelcat/sanic), Sanic is a Flask-like Python 3.5+ web server that's  - - written to go fast\n",
    "- Database - sqLite3\n",
    "- REST Client - [Postman](https://www.getpostman.com/)\n"
   ]
  },
  {
   "cell_type": "code",
   "execution_count": null,
   "metadata": {},
   "outputs": [],
   "source": []
  }
 ],
 "metadata": {
  "kernelspec": {
   "display_name": "Python 3",
   "language": "python",
   "name": "python3"
  },
  "language_info": {
   "codemirror_mode": {
    "name": "ipython",
    "version": 2
   },
   "file_extension": ".py",
   "mimetype": "text/x-python",
   "name": "python",
   "nbconvert_exporter": "python",
   "pygments_lexer": "ipython2",
   "version": "2.7.12"
  }
 },
 "nbformat": 4,
 "nbformat_minor": 2
}
