{
 "cells": [
  {
   "cell_type": "markdown",
   "metadata": {},
   "source": [
    "# Files I/O"
   ]
  },
  {
   "cell_type": "markdown",
   "metadata": {},
   "source": [
    "Python provides basic functions and methods necessary to manipulate files by default. You can do most of the file manipulation using a file object."
   ]
  },
  {
   "cell_type": "markdown",
   "metadata": {},
   "source": [
    "### The open Function"
   ]
  },
  {
   "cell_type": "code",
   "execution_count": 23,
   "metadata": {},
   "outputs": [
    {
     "name": "stdout",
     "output_type": "stream",
     "text": [
      "Name of the file:  foo.txt\n",
      "Closed or not :  False\n",
      "Opening mode :  wb\n",
      "Softspace flag :  0\n"
     ]
    }
   ],
   "source": [
    "fo = open(\"foo.txt\", \"wb\")\n",
    "print \"Name of the file: \", fo.name\n",
    "print \"Closed or not : \", fo.closed\n",
    "print \"Opening mode : \", fo.mode\n",
    "print \"Softspace flag : \", fo.softspace"
   ]
  },
  {
   "cell_type": "markdown",
   "metadata": {},
   "source": [
    "### The write() Method"
   ]
  },
  {
   "cell_type": "code",
   "execution_count": 24,
   "metadata": {},
   "outputs": [],
   "source": [
    "fo.write( \"I have opened a file using Python. \\n And I'm writing to it\");"
   ]
  },
  {
   "cell_type": "markdown",
   "metadata": {},
   "source": [
    "### The close() Method"
   ]
  },
  {
   "cell_type": "code",
   "execution_count": 25,
   "metadata": {},
   "outputs": [],
   "source": [
    "fo.close()"
   ]
  },
  {
   "cell_type": "markdown",
   "metadata": {},
   "source": [
    "### The read() Method"
   ]
  },
  {
   "cell_type": "code",
   "execution_count": 26,
   "metadata": {},
   "outputs": [
    {
     "name": "stdout",
     "output_type": "stream",
     "text": [
      "Read String is :  I have ope\n"
     ]
    }
   ],
   "source": [
    "fo = open(\"foo.txt\", \"r+\")\n",
    "str = fo.read(10);\n",
    "print \"Read String is : \", str\n",
    "# Close opend file\n",
    "fo.close()"
   ]
  },
  {
   "cell_type": "markdown",
   "metadata": {},
   "source": [
    "### File Positions"
   ]
  },
  {
   "cell_type": "code",
   "execution_count": 30,
   "metadata": {},
   "outputs": [
    {
     "name": "stdout",
     "output_type": "stream",
     "text": [
      "String is :  I have opened a\n",
      "Current file position :  15\n",
      "String is :  I have opened a\n"
     ]
    }
   ],
   "source": [
    "fo = open(\"foo.txt\", \"r+\")\n",
    "str = fo.read(15)\n",
    "print \"String is : \", str\n",
    "\n",
    "\n",
    "position = fo.tell();\n",
    "print \"Current file position : \", position\n",
    "\n",
    "position = fo.seek(0, 0);\n",
    "str = fo.read(15);\n",
    "print \"String is : \", str\n",
    "\n",
    "fo.close()"
   ]
  },
  {
   "cell_type": "markdown",
   "metadata": {},
   "source": [
    "# Python Databases"
   ]
  },
  {
   "cell_type": "markdown",
   "metadata": {},
   "source": [
    "## Python sqlite3 "
   ]
  },
  {
   "cell_type": "markdown",
   "metadata": {},
   "source": [
    " It provides an SQL interface compliant with the DB-API 2.0 specification described by PEP 249. You do not need to install this module separately because it is shipped by default along with Python version 2.5.x onwards."
   ]
  },
  {
   "cell_type": "markdown",
   "metadata": {},
   "source": [
    "Following are important sqlite3 module routines, which can suffice your requirement to work with SQLite database from your Python program. We will cover these modules in detail with example."
   ]
  },
  {
   "cell_type": "markdown",
   "metadata": {},
   "source": [
    "## Connect To Database"
   ]
  },
  {
   "cell_type": "code",
   "execution_count": 37,
   "metadata": {},
   "outputs": [],
   "source": [
    "import sqlite3\n",
    "\n",
    "conn = sqlite3.connect('test.db')"
   ]
  },
  {
   "cell_type": "markdown",
   "metadata": {},
   "source": [
    "## Create a Table"
   ]
  },
  {
   "cell_type": "code",
   "execution_count": 38,
   "metadata": {},
   "outputs": [
    {
     "data": {
      "text/plain": [
       "<sqlite3.Cursor at 0x7f71a44277a0>"
      ]
     },
     "execution_count": 38,
     "metadata": {},
     "output_type": "execute_result"
    }
   ],
   "source": [
    "conn.execute('''CREATE TABLE WORKSHOP\n",
    "         (ID INT PRIMARY KEY     NOT NULL,\n",
    "         NAME           TEXT    NOT NULL,\n",
    "         AGE            INT     NOT NULL,\n",
    "         CITY           CHAR(50));''')"
   ]
  },
  {
   "cell_type": "markdown",
   "metadata": {},
   "source": [
    "## INSERT Operation"
   ]
  },
  {
   "cell_type": "code",
   "execution_count": 39,
   "metadata": {},
   "outputs": [],
   "source": [
    "conn.execute(\"INSERT INTO WORKSHOP (ID,NAME,AGE,CITY) \\\n",
    "      VALUES (1, 'Rajat', 20, 'Mangalore')\");\n",
    "\n",
    "conn.execute(\"INSERT INTO WORKSHOP (ID,NAME,AGE,CITY) \\\n",
    "      VALUES (2, 'Jude', 22, 'Chennai')\");\n",
    "\n",
    "conn.execute(\"INSERT INTO WORKSHOP (ID,NAME,AGE,CITY) \\\n",
    "      VALUES (3, 'Sherin', 23, 'Bangalore')\");\n",
    "\n",
    "conn.execute(\"INSERT INTO WORKSHOP (ID,NAME,AGE,CITY) \\\n",
    "      VALUES (4, 'Ajay', 21, 'Panjab')\");\n",
    "\n",
    "conn.commit()"
   ]
  },
  {
   "cell_type": "markdown",
   "metadata": {},
   "source": [
    "## SELECT Operation"
   ]
  },
  {
   "cell_type": "code",
   "execution_count": 40,
   "metadata": {},
   "outputs": [
    {
     "name": "stdout",
     "output_type": "stream",
     "text": [
      "ID =  1\n",
      "NAME =  Rajat\n",
      "CITY =  Mangalore \n",
      "\n",
      "ID =  2\n",
      "NAME =  Jude\n",
      "CITY =  Chennai \n",
      "\n",
      "ID =  3\n",
      "NAME =  Sherin\n",
      "CITY =  Bangalore \n",
      "\n",
      "ID =  4\n",
      "NAME =  Ajay\n",
      "CITY =  Panjab \n",
      "\n"
     ]
    }
   ],
   "source": [
    "cursor = conn.execute(\"SELECT id, name, city from WORKSHOP\")\n",
    "for row in cursor:\n",
    "   print \"ID = \", row[0]\n",
    "   print \"NAME = \", row[1]\n",
    "   print \"CITY = \", row[2], \"\\n\"\n"
   ]
  },
  {
   "cell_type": "markdown",
   "metadata": {},
   "source": [
    "## UPDATE Operation"
   ]
  },
  {
   "cell_type": "code",
   "execution_count": 41,
   "metadata": {},
   "outputs": [
    {
     "name": "stdout",
     "output_type": "stream",
     "text": [
      "ID =  1\n",
      "NAME =  Rajat\n",
      "CITY =  Mumbai \n",
      "\n"
     ]
    }
   ],
   "source": [
    "conn.execute(\"UPDATE WORKSHOP set CITY = 'Mumbai' where ID = 1\")\n",
    "conn.commit\n",
    "cursor = conn.execute(\"SELECT id, name, city from WORKSHOP where ID = 1\")\n",
    "for row in cursor:\n",
    "   print \"ID = \", row[0]\n",
    "   print \"NAME = \", row[1]\n",
    "   print \"CITY = \", row[2], \"\\n\""
   ]
  },
  {
   "cell_type": "markdown",
   "metadata": {},
   "source": [
    "## DELETE Operation"
   ]
  },
  {
   "cell_type": "code",
   "execution_count": 42,
   "metadata": {},
   "outputs": [
    {
     "name": "stdout",
     "output_type": "stream",
     "text": [
      "ID =  1\n",
      "NAME =  Rajat\n",
      "CITY =  Mumbai \n",
      "\n",
      "ID =  3\n",
      "NAME =  Sherin\n",
      "CITY =  Bangalore \n",
      "\n",
      "ID =  4\n",
      "NAME =  Ajay\n",
      "CITY =  Panjab \n",
      "\n"
     ]
    }
   ],
   "source": [
    "conn.execute(\"DELETE from WORKSHOP where ID = 2;\")\n",
    "conn.commit()\n",
    "cursor = conn.execute(\"SELECT id, name, city from WORKSHOP\")\n",
    "for row in cursor:\n",
    "   print \"ID = \", row[0]\n",
    "   print \"NAME = \", row[1]\n",
    "   print \"CITY = \", row[2], \"\\n\""
   ]
  },
  {
   "cell_type": "code",
   "execution_count": null,
   "metadata": {},
   "outputs": [],
   "source": []
  }
 ],
 "metadata": {
  "kernelspec": {
   "display_name": "Python 3",
   "language": "python",
   "name": "python3"
  },
  "language_info": {
   "codemirror_mode": {
    "name": "ipython",
    "version": 2
   },
   "file_extension": ".py",
   "mimetype": "text/x-python",
   "name": "python",
   "nbconvert_exporter": "python",
   "pygments_lexer": "ipython2",
   "version": "2.7.12"
  }
 },
 "nbformat": 4,
 "nbformat_minor": 2
}
